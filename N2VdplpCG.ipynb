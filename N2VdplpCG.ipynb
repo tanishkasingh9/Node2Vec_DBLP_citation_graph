{
  "nbformat": 4,
  "nbformat_minor": 0,
  "metadata": {
    "colab": {
      "name": "SML_Tanishka.ipynb",
      "provenance": [],
      "collapsed_sections": [],
      "machine_shape": "hm"
    },
    "kernelspec": {
      "name": "python3",
      "display_name": "Python 3"
    },
    "accelerator": "TPU"
  },
  "cells": [
    {
      "cell_type": "markdown",
      "metadata": {
        "id": "nS_azIeqO-q-",
        "colab_type": "text"
      },
      "source": [
        "# Node2Vec on DBLP Citation Graph.\n"
      ]
    },
    {
      "cell_type": "code",
      "metadata": {
        "id": "04LqCcb0SZz4",
        "colab_type": "code",
        "colab": {
          "base_uri": "https://localhost:8080/",
          "height": 122
        },
        "outputId": "93ed35ca-dada-473b-ca59-ffbadf9c7ee0"
      },
      "source": [
        "from google.colab import drive\n",
        "drive.mount('/content/drive', force_remount=True)"
      ],
      "execution_count": null,
      "outputs": [
        {
          "output_type": "stream",
          "text": [
            "Go to this URL in a browser: https://accounts.google.com/o/oauth2/auth?client_id=947318989803-6bn6qk8qdgf4n4g3pfee6491hc0brc4i.apps.googleusercontent.com&redirect_uri=urn%3aietf%3awg%3aoauth%3a2.0%3aoob&response_type=code&scope=email%20https%3a%2f%2fwww.googleapis.com%2fauth%2fdocs.test%20https%3a%2f%2fwww.googleapis.com%2fauth%2fdrive%20https%3a%2f%2fwww.googleapis.com%2fauth%2fdrive.photos.readonly%20https%3a%2f%2fwww.googleapis.com%2fauth%2fpeopleapi.readonly\n",
            "\n",
            "Enter your authorization code:\n",
            "··········\n",
            "Mounted at /content/drive\n"
          ],
          "name": "stdout"
        }
      ]
    },
    {
      "cell_type": "markdown",
      "metadata": {
        "id": "oQmJXEHXIays",
        "colab_type": "text"
      },
      "source": [
        "## Loading the DBLP dataset \n",
        "The data was a whooping 12 GBs, too big for performing EDA and prototyping. It was divided into smaller chunks which is wwhat you see below."
      ]
    },
    {
      "cell_type": "code",
      "metadata": {
        "id": "a-PBRQ0TelUt",
        "colab_type": "code",
        "colab": {
          "base_uri": "https://localhost:8080/",
          "height": 614
        },
        "outputId": "e825f044-a0a9-4511-d5c6-0ade471889f2"
      },
      "source": [
        "!ls /content/drive/My\\ Drive/CSE575_Project/Datasets/dataset_splitted"
      ],
      "execution_count": null,
      "outputs": [
        {
          "output_type": "stream",
          "text": [
            "titles_bdlp_v11_data.csv  xbi  xcr  xea  xfj  xgs  xib\txjk  xkt  xmc  xnl  xou\n",
            "xaa\t\t\t  xbj  xcs  xeb  xfk  xgt  xic\txjl  xku  xmd  xnm  xov\n",
            "xab\t\t\t  xbk  xct  xec  xfl  xgu  xid\txjm  xkv  xme  xnn  xow\n",
            "xac\t\t\t  xbl  xcu  xed  xfm  xgv  xie\txjn  xkw  xmf  xno  xox\n",
            "xad\t\t\t  xbm  xcv  xee  xfn  xgw  xif\txjo  xkx  xmg  xnp  xoy\n",
            "xae\t\t\t  xbn  xcw  xef  xfo  xgx  xig\txjp  xky  xmh  xnq  xoz\n",
            "xaf\t\t\t  xbo  xcx  xeg  xfp  xgy  xih\txjq  xkz  xmi  xnr  xpa\n",
            "xag\t\t\t  xbp  xcy  xeh  xfq  xgz  xii\txjr  xla  xmj  xns  xpb\n",
            "xah\t\t\t  xbq  xcz  xei  xfr  xha  xij\txjs  xlb  xmk  xnt  xpc\n",
            "xai\t\t\t  xbr  xda  xej  xfs  xhb  xik\txjt  xlc  xml  xnu  xpd\n",
            "xaj\t\t\t  xbs  xdb  xek  xft  xhc  xil\txju  xld  xmm  xnv  xpe\n",
            "xak\t\t\t  xbt  xdc  xel  xfu  xhd  xim\txjv  xle  xmn  xnw  xpf\n",
            "xal\t\t\t  xbu  xdd  xem  xfv  xhe  xin\txjw  xlf  xmo  xnx  xpg\n",
            "xam\t\t\t  xbv  xde  xen  xfw  xhf  xio\txjx  xlg  xmp  xny  xph\n",
            "xan\t\t\t  xbw  xdf  xeo  xfx  xhg  xip\txjy  xlh  xmq  xnz  xpi\n",
            "xao\t\t\t  xbx  xdg  xep  xfy  xhh  xiq\txjz  xli  xmr  xoa  xpj\n",
            "xap\t\t\t  xby  xdh  xeq  xfz  xhi  xir\txka  xlj  xms  xob  xpk\n",
            "xaq\t\t\t  xbz  xdi  xer  xga  xhj  xis\txkb  xlk  xmt  xoc  xpl\n",
            "xar\t\t\t  xca  xdj  xes  xgb  xhk  xit\txkc  xll  xmu  xod  xpm\n",
            "xas\t\t\t  xcb  xdk  xet  xgc  xhl  xiu\txkd  xlm  xmv  xoe  xpn\n",
            "xat\t\t\t  xcc  xdl  xeu  xgd  xhm  xiv\txke  xln  xmw  xof  xpo\n",
            "xau\t\t\t  xcd  xdm  xev  xge  xhn  xiw\txkf  xlo  xmx  xog  xpp\n",
            "xav\t\t\t  xce  xdn  xew  xgf  xho  xix\txkg  xlp  xmy  xoh  xpq\n",
            "xaw\t\t\t  xcf  xdo  xex  xgg  xhp  xiy\txkh  xlq  xmz  xoi  xpr\n",
            "xax\t\t\t  xcg  xdp  xey  xgh  xhq  xiz\txki  xlr  xna  xoj  xps\n",
            "xay\t\t\t  xch  xdq  xez  xgi  xhr  xja\txkj  xls  xnb  xok  xpt\n",
            "xaz\t\t\t  xci  xdr  xfa  xgj  xhs  xjb\txkk  xlt  xnc  xol  xpu\n",
            "xba\t\t\t  xcj  xds  xfb  xgk  xht  xjc\txkl  xlu  xnd  xom\n",
            "xbb\t\t\t  xck  xdt  xfc  xgl  xhu  xjd\txkm  xlv  xne  xon\n",
            "xbc\t\t\t  xcl  xdu  xfd  xgm  xhv  xje\txkn  xlw  xnf  xoo\n",
            "xbd\t\t\t  xcm  xdv  xfe  xgn  xhw  xjf\txko  xlx  xng  xop\n",
            "xbe\t\t\t  xcn  xdw  xff  xgo  xhx  xjg\txkp  xly  xnh  xoq\n",
            "xbf\t\t\t  xco  xdx  xfg  xgp  xhy  xjh\txkq  xlz  xni  xor\n",
            "xbg\t\t\t  xcp  xdy  xfh  xgq  xhz  xji\txkr  xma  xnj  xos\n",
            "xbh\t\t\t  xcq  xdz  xfi  xgr  xia  xjj\txks  xmb  xnk  xot\n"
          ],
          "name": "stdout"
        }
      ]
    },
    {
      "cell_type": "markdown",
      "metadata": {
        "id": "qo_C9CzuJCeP",
        "colab_type": "text"
      },
      "source": [
        "## Networkx is a beast\n",
        "it provides many tools and algorithms that can be run on the graph (Shortest path from A to B, connected components, drawing and visualizing)\n",
        "\n"
      ]
    },
    {
      "cell_type": "code",
      "metadata": {
        "id": "qaPDI9q3mJDO",
        "colab_type": "code",
        "colab": {
          "base_uri": "https://localhost:8080/",
          "height": 51
        },
        "outputId": "373a837b-1859-4c33-82af-07047f466427"
      },
      "source": [
        "!pip install networkx"
      ],
      "execution_count": null,
      "outputs": [
        {
          "output_type": "stream",
          "text": [
            "Requirement already satisfied: networkx in /usr/local/lib/python3.6/dist-packages (2.4)\n",
            "Requirement already satisfied: decorator>=4.3.0 in /usr/local/lib/python3.6/dist-packages (from networkx) (4.4.2)\n"
          ],
          "name": "stdout"
        }
      ]
    },
    {
      "cell_type": "code",
      "metadata": {
        "id": "KbKKYsP-TkfN",
        "colab_type": "code",
        "colab": {}
      },
      "source": [
        "import networkx as nx\n",
        "from networkx.readwrite import json_graph\n",
        "import pandas as pd\n",
        "import json\n",
        "import math \n",
        "import numpy as np\n",
        "from os import listdir\n",
        "from os.path import isfile, join"
      ],
      "execution_count": null,
      "outputs": []
    },
    {
      "cell_type": "markdown",
      "metadata": {
        "id": "rtQxq0Wca7Gq",
        "colab_type": "text"
      },
      "source": [
        "# **LOAD DATA**"
      ]
    },
    {
      "cell_type": "code",
      "metadata": {
        "id": "xca8Ivnkxr7l",
        "colab_type": "code",
        "colab": {}
      },
      "source": [
        "path = '/content/drive/My Drive/CSE575_Project/Datasets/dataset_splitted/'\n",
        "filename_list = [f for f in listdir(path) if isfile(join(path, f))]\n",
        "filename_list"
      ],
      "execution_count": null,
      "outputs": []
    },
    {
      "cell_type": "markdown",
      "metadata": {
        "id": "Qc7KgDCRJdCS",
        "colab_type": "text"
      },
      "source": [
        "parsing json file chunks to one dataframe, this can be adjusted for smaller chunks."
      ]
    },
    {
      "cell_type": "code",
      "metadata": {
        "id": "flO3RoXGzPek",
        "colab_type": "code",
        "colab": {
          "base_uri": "https://localhost:8080/",
          "height": 256
        },
        "outputId": "acce92c7-35de-4503-a504-82e9a4c60a42"
      },
      "source": [
        "pd.read_json(path+'xaa',lines=True).head"
      ],
      "execution_count": null,
      "outputs": [
        {
          "output_type": "execute_result",
          "data": {
            "text/plain": [
              "<bound method NDFrame.head of               id  ...                                   indexed_abstract\n",
              "0      100001334  ...                                                NaN\n",
              "1     1000018889  ...  {'IndexLength': 173, 'InvertedIndex': {'Both':...\n",
              "2     1000022707  ...  {'IndexLength': 49, 'InvertedIndex': {'A': [0]...\n",
              "3      100004108  ...  {'IndexLength': 82, 'InvertedIndex': {'In': [0...\n",
              "4       10000571  ...  {'IndexLength': 171, 'InvertedIndex': {'Comple...\n",
              "...          ...  ...                                                ...\n",
              "9995   105154181  ...                                                NaN\n",
              "9996   105154304  ...                                                NaN\n",
              "9997    10515480  ...  {'IndexLength': 101, 'InvertedIndex': {'Over':...\n",
              "9998   105155086  ...                                                NaN\n",
              "9999   105155515  ...  {'IndexLength': 300, 'InvertedIndex': {'Advanc...\n",
              "\n",
              "[10000 rows x 16 columns]>"
            ]
          },
          "metadata": {
            "tags": []
          },
          "execution_count": 6
        }
      ]
    },
    {
      "cell_type": "code",
      "metadata": {
        "id": "sPPJOUlbYbeF",
        "colab_type": "code",
        "colab": {}
      },
      "source": [
        "filename_list = [f for f in listdir(path) if isfile(join(path, f))]\n",
        "df = pd.DataFrame()\n",
        "\n",
        "for filename in filename_list:\n",
        "  df = df.append(pd.read_json(path+filename,lines=True).filter(['id','title', 'authors','year','references']))\n",
        "  print(filename, end =\"\")\n",
        " \n",
        "\n"
      ],
      "execution_count": null,
      "outputs": []
    },
    {
      "cell_type": "markdown",
      "metadata": {
        "id": "54Mn7vAKJ6vI",
        "colab_type": "text"
      },
      "source": [
        "## Checkpoint for using csv directly"
      ]
    },
    {
      "cell_type": "code",
      "metadata": {
        "id": "0mYdDmgmneGa",
        "colab_type": "code",
        "colab": {}
      },
      "source": [
        "df.to_csv('titles_bdlp_v11_data.csv')\n",
        "!cp titles_bdlp_v11_data.csv drive/My\\ Drive/"
      ],
      "execution_count": null,
      "outputs": []
    },
    {
      "cell_type": "code",
      "metadata": {
        "id": "ak_I3NVqVc5u",
        "colab_type": "code",
        "colab": {
          "base_uri": "https://localhost:8080/",
          "height": 576
        },
        "outputId": "66d210a5-9e12-474c-9cbc-71780f1d98d9"
      },
      "source": [
        "df"
      ],
      "execution_count": null,
      "outputs": [
        {
          "output_type": "execute_result",
          "data": {
            "text/html": [
              "<div>\n",
              "<style scoped>\n",
              "    .dataframe tbody tr th:only-of-type {\n",
              "        vertical-align: middle;\n",
              "    }\n",
              "\n",
              "    .dataframe tbody tr th {\n",
              "        vertical-align: top;\n",
              "    }\n",
              "\n",
              "    .dataframe thead th {\n",
              "        text-align: right;\n",
              "    }\n",
              "</style>\n",
              "<table border=\"1\" class=\"dataframe\">\n",
              "  <thead>\n",
              "    <tr style=\"text-align: right;\">\n",
              "      <th></th>\n",
              "      <th>id</th>\n",
              "      <th>title</th>\n",
              "      <th>authors</th>\n",
              "      <th>year</th>\n",
              "      <th>references</th>\n",
              "    </tr>\n",
              "  </thead>\n",
              "  <tbody>\n",
              "    <tr>\n",
              "      <th>0</th>\n",
              "      <td>100001334</td>\n",
              "      <td>Ontologies in HYDRA - Middleware for Ambient I...</td>\n",
              "      <td>[{'name': 'Peter Kostelnik', 'id': '2702511795...</td>\n",
              "      <td>2009.0</td>\n",
              "      <td>NaN</td>\n",
              "    </tr>\n",
              "    <tr>\n",
              "      <th>1</th>\n",
              "      <td>1000018889</td>\n",
              "      <td>Remote Policy Enforcement for Trusted Applicat...</td>\n",
              "      <td>[{'name': 'Fabio Martinelli', 'id': '210743870...</td>\n",
              "      <td>2013.0</td>\n",
              "      <td>[94181602, 1504669610, 1542792105, 1639158619,...</td>\n",
              "    </tr>\n",
              "    <tr>\n",
              "      <th>2</th>\n",
              "      <td>1000022707</td>\n",
              "      <td>A SIMPLE OBSERVATION REGARDING ITERATIONS OF F...</td>\n",
              "      <td>[{'name': 'Jerzy Mycka', 'id': '263067851'}]</td>\n",
              "      <td>2009.0</td>\n",
              "      <td>[1972178849, 2069792094]</td>\n",
              "    </tr>\n",
              "    <tr>\n",
              "      <th>3</th>\n",
              "      <td>100004108</td>\n",
              "      <td>Gait based human identity recognition from mul...</td>\n",
              "      <td>[{'name': 'Emdad Hossain', 'id': '2017661848',...</td>\n",
              "      <td>2012.0</td>\n",
              "      <td>[1578000111, 2120433720, 2136461127, 213893135...</td>\n",
              "    </tr>\n",
              "    <tr>\n",
              "      <th>4</th>\n",
              "      <td>10000571</td>\n",
              "      <td>The GAME Algorithm Applied to Complex Fraction...</td>\n",
              "      <td>[{'name': 'Pavel Kordík', 'id': '419063071', '...</td>\n",
              "      <td>2008.0</td>\n",
              "      <td>[291899685, 1964166287, 2135293965, 2146842127...</td>\n",
              "    </tr>\n",
              "    <tr>\n",
              "      <th>...</th>\n",
              "      <td>...</td>\n",
              "      <td>...</td>\n",
              "      <td>...</td>\n",
              "      <td>...</td>\n",
              "      <td>...</td>\n",
              "    </tr>\n",
              "    <tr>\n",
              "      <th>7335</th>\n",
              "      <td>999974056</td>\n",
              "      <td>Integrated Pollutants Control Equipment Optimi...</td>\n",
              "      <td>[{'name': 'Xiaowen Hao', 'id': '2580939372', '...</td>\n",
              "      <td>2013.0</td>\n",
              "      <td>[]</td>\n",
              "    </tr>\n",
              "    <tr>\n",
              "      <th>7336</th>\n",
              "      <td>999990983</td>\n",
              "      <td>On Density in Coordination Languages</td>\n",
              "      <td>[{'name': 'Jean-Marie Jacquet', 'id': '2010907...</td>\n",
              "      <td>2013.0</td>\n",
              "      <td>[1500859230, 1580092362, 1585392506, 169252172...</td>\n",
              "    </tr>\n",
              "    <tr>\n",
              "      <th>7337</th>\n",
              "      <td>999994435</td>\n",
              "      <td>Investigating the metabolic landscape alterati...</td>\n",
              "      <td>[{'name': 'Xiaofeng Zhang', 'id': '2103773916'}]</td>\n",
              "      <td>2015.0</td>\n",
              "      <td>NaN</td>\n",
              "    </tr>\n",
              "    <tr>\n",
              "      <th>7338</th>\n",
              "      <td>99999725</td>\n",
              "      <td>Validating Referential Integrity as a Database...</td>\n",
              "      <td>[{'name': 'Coral Calero', 'id': '2106620005'},...</td>\n",
              "      <td>1999.0</td>\n",
              "      <td>NaN</td>\n",
              "    </tr>\n",
              "    <tr>\n",
              "      <th>7339</th>\n",
              "      <td>99999932</td>\n",
              "      <td>IIT Kharagpur at TAC 2008: Statistical Model f...</td>\n",
              "      <td>[{'name': 'Sushant Kumar', 'id': '2590270817',...</td>\n",
              "      <td>2008.0</td>\n",
              "      <td>[2110693578, 2163455955, 2166706824]</td>\n",
              "    </tr>\n",
              "  </tbody>\n",
              "</table>\n",
              "<p>4107340 rows × 5 columns</p>\n",
              "</div>"
            ],
            "text/plain": [
              "              id  ...                                         references\n",
              "0      100001334  ...                                                NaN\n",
              "1     1000018889  ...  [94181602, 1504669610, 1542792105, 1639158619,...\n",
              "2     1000022707  ...                           [1972178849, 2069792094]\n",
              "3      100004108  ...  [1578000111, 2120433720, 2136461127, 213893135...\n",
              "4       10000571  ...  [291899685, 1964166287, 2135293965, 2146842127...\n",
              "...          ...  ...                                                ...\n",
              "7335   999974056  ...                                                 []\n",
              "7336   999990983  ...  [1500859230, 1580092362, 1585392506, 169252172...\n",
              "7337   999994435  ...                                                NaN\n",
              "7338    99999725  ...                                                NaN\n",
              "7339    99999932  ...               [2110693578, 2163455955, 2166706824]\n",
              "\n",
              "[4107340 rows x 5 columns]"
            ]
          },
          "metadata": {
            "tags": []
          },
          "execution_count": 10
        }
      ]
    },
    {
      "cell_type": "code",
      "metadata": {
        "id": "T3UTsSARHV5A",
        "colab_type": "code",
        "colab": {}
      },
      "source": [
        "filepath = '/content/drive/My Drive/titles_bdlp_v11_data.csv'\n",
        "df_graph = pd.read_csv(filepath)\n",
        "df_graph = df_graph.drop(columns='Unnamed: 0')\n",
        "df_graph = df_graph.fillna('0')"
      ],
      "execution_count": null,
      "outputs": []
    },
    {
      "cell_type": "code",
      "metadata": {
        "id": "Tk16YrSzqpjx",
        "colab_type": "code",
        "colab": {
          "base_uri": "https://localhost:8080/",
          "height": 576
        },
        "outputId": "1686ffc4-6c61-4da5-f5af-7fe1806775d1"
      },
      "source": [
        "df_graph"
      ],
      "execution_count": null,
      "outputs": [
        {
          "output_type": "execute_result",
          "data": {
            "text/html": [
              "<div>\n",
              "<style scoped>\n",
              "    .dataframe tbody tr th:only-of-type {\n",
              "        vertical-align: middle;\n",
              "    }\n",
              "\n",
              "    .dataframe tbody tr th {\n",
              "        vertical-align: top;\n",
              "    }\n",
              "\n",
              "    .dataframe thead th {\n",
              "        text-align: right;\n",
              "    }\n",
              "</style>\n",
              "<table border=\"1\" class=\"dataframe\">\n",
              "  <thead>\n",
              "    <tr style=\"text-align: right;\">\n",
              "      <th></th>\n",
              "      <th>id</th>\n",
              "      <th>title</th>\n",
              "      <th>authors</th>\n",
              "      <th>year</th>\n",
              "      <th>references</th>\n",
              "    </tr>\n",
              "  </thead>\n",
              "  <tbody>\n",
              "    <tr>\n",
              "      <th>0</th>\n",
              "      <td>100001334</td>\n",
              "      <td>Ontologies in HYDRA - Middleware for Ambient I...</td>\n",
              "      <td>[{'name': 'Peter Kostelnik', 'id': '2702511795...</td>\n",
              "      <td>2009</td>\n",
              "      <td>0</td>\n",
              "    </tr>\n",
              "    <tr>\n",
              "      <th>1</th>\n",
              "      <td>1000018889</td>\n",
              "      <td>Remote Policy Enforcement for Trusted Applicat...</td>\n",
              "      <td>[{'name': 'Fabio Martinelli', 'id': '210743870...</td>\n",
              "      <td>2013</td>\n",
              "      <td>['94181602', '1504669610', '1542792105', '1639...</td>\n",
              "    </tr>\n",
              "    <tr>\n",
              "      <th>2</th>\n",
              "      <td>1000022707</td>\n",
              "      <td>A SIMPLE OBSERVATION REGARDING ITERATIONS OF F...</td>\n",
              "      <td>[{'name': 'Jerzy Mycka', 'id': '263067851'}]</td>\n",
              "      <td>2009</td>\n",
              "      <td>['1972178849', '2069792094']</td>\n",
              "    </tr>\n",
              "    <tr>\n",
              "      <th>3</th>\n",
              "      <td>100004108</td>\n",
              "      <td>Gait based human identity recognition from mul...</td>\n",
              "      <td>[{'name': 'Emdad Hossain', 'id': '2017661848',...</td>\n",
              "      <td>2012</td>\n",
              "      <td>['1578000111', '2120433720', '2136461127', '21...</td>\n",
              "    </tr>\n",
              "    <tr>\n",
              "      <th>4</th>\n",
              "      <td>10000571</td>\n",
              "      <td>The GAME Algorithm Applied to Complex Fraction...</td>\n",
              "      <td>[{'name': 'Pavel Kordík', 'id': '419063071', '...</td>\n",
              "      <td>2008</td>\n",
              "      <td>['291899685', '1964166287', '2135293965', '214...</td>\n",
              "    </tr>\n",
              "    <tr>\n",
              "      <th>...</th>\n",
              "      <td>...</td>\n",
              "      <td>...</td>\n",
              "      <td>...</td>\n",
              "      <td>...</td>\n",
              "      <td>...</td>\n",
              "    </tr>\n",
              "    <tr>\n",
              "      <th>4107335</th>\n",
              "      <td>999974056</td>\n",
              "      <td>Integrated Pollutants Control Equipment Optimi...</td>\n",
              "      <td>[{'name': 'Xiaowen Hao', 'id': '2580939372', '...</td>\n",
              "      <td>2013</td>\n",
              "      <td>[]</td>\n",
              "    </tr>\n",
              "    <tr>\n",
              "      <th>4107336</th>\n",
              "      <td>999990983</td>\n",
              "      <td>On Density in Coordination Languages</td>\n",
              "      <td>[{'name': 'Jean-Marie Jacquet', 'id': '2010907...</td>\n",
              "      <td>2013</td>\n",
              "      <td>['1500859230', '1580092362', '1585392506', '16...</td>\n",
              "    </tr>\n",
              "    <tr>\n",
              "      <th>4107337</th>\n",
              "      <td>999994435</td>\n",
              "      <td>Investigating the metabolic landscape alterati...</td>\n",
              "      <td>[{'name': 'Xiaofeng Zhang', 'id': '2103773916'}]</td>\n",
              "      <td>2015</td>\n",
              "      <td>0</td>\n",
              "    </tr>\n",
              "    <tr>\n",
              "      <th>4107338</th>\n",
              "      <td>99999725</td>\n",
              "      <td>Validating Referential Integrity as a Database...</td>\n",
              "      <td>[{'name': 'Coral Calero', 'id': '2106620005'},...</td>\n",
              "      <td>1999</td>\n",
              "      <td>0</td>\n",
              "    </tr>\n",
              "    <tr>\n",
              "      <th>4107339</th>\n",
              "      <td>99999932</td>\n",
              "      <td>IIT Kharagpur at TAC 2008: Statistical Model f...</td>\n",
              "      <td>[{'name': 'Sushant Kumar', 'id': '2590270817',...</td>\n",
              "      <td>2008</td>\n",
              "      <td>['2110693578', '2163455955', '2166706824']</td>\n",
              "    </tr>\n",
              "  </tbody>\n",
              "</table>\n",
              "<p>4107340 rows × 5 columns</p>\n",
              "</div>"
            ],
            "text/plain": [
              "                 id  ...                                         references\n",
              "0         100001334  ...                                                  0\n",
              "1        1000018889  ...  ['94181602', '1504669610', '1542792105', '1639...\n",
              "2        1000022707  ...                       ['1972178849', '2069792094']\n",
              "3         100004108  ...  ['1578000111', '2120433720', '2136461127', '21...\n",
              "4          10000571  ...  ['291899685', '1964166287', '2135293965', '214...\n",
              "...             ...  ...                                                ...\n",
              "4107335   999974056  ...                                                 []\n",
              "4107336   999990983  ...  ['1500859230', '1580092362', '1585392506', '16...\n",
              "4107337   999994435  ...                                                  0\n",
              "4107338    99999725  ...                                                  0\n",
              "4107339    99999932  ...         ['2110693578', '2163455955', '2166706824']\n",
              "\n",
              "[4107340 rows x 5 columns]"
            ]
          },
          "metadata": {
            "tags": []
          },
          "execution_count": 21
        }
      ]
    },
    {
      "cell_type": "markdown",
      "metadata": {
        "id": "RtI03iz-KCGz",
        "colab_type": "text"
      },
      "source": [
        "## Pre-processing list of references "
      ]
    },
    {
      "cell_type": "code",
      "metadata": {
        "id": "VlW7BdgrpuX9",
        "colab_type": "code",
        "colab": {}
      },
      "source": [
        "yello = df_graph['references'].apply(lambda x:x.replace('\"[', ''))\n",
        "yello = yello.apply(lambda x:x.replace('[', ''))\n",
        "yello = yello.apply(lambda x:x.replace(']', ''))\n",
        "yello = yello.apply(lambda x:x.replace(\"' \", \"\"))\n",
        "yello = yello.apply(lambda x:x.replace(\" '\", \"\"))\n",
        "yello = yello.apply(lambda x:x.replace(\"'\", \"\"))\n",
        "yello = yello.apply(lambda x:x.replace(\"\\n\", \"\"))"
      ],
      "execution_count": null,
      "outputs": []
    },
    {
      "cell_type": "code",
      "metadata": {
        "id": "cFlBC49AtZ6Z",
        "colab_type": "code",
        "colab": {}
      },
      "source": [
        "df_graph['references'] = yello"
      ],
      "execution_count": null,
      "outputs": []
    },
    {
      "cell_type": "code",
      "metadata": {
        "id": "VUIoXm6OwUIp",
        "colab_type": "code",
        "colab": {
          "base_uri": "https://localhost:8080/",
          "height": 763
        },
        "outputId": "a75d313a-f60a-4ee0-a663-fed23cd83d7b"
      },
      "source": [
        "df_graph"
      ],
      "execution_count": null,
      "outputs": [
        {
          "output_type": "execute_result",
          "data": {
            "text/html": [
              "<div>\n",
              "<style scoped>\n",
              "    .dataframe tbody tr th:only-of-type {\n",
              "        vertical-align: middle;\n",
              "    }\n",
              "\n",
              "    .dataframe tbody tr th {\n",
              "        vertical-align: top;\n",
              "    }\n",
              "\n",
              "    .dataframe thead th {\n",
              "        text-align: right;\n",
              "    }\n",
              "</style>\n",
              "<table border=\"1\" class=\"dataframe\">\n",
              "  <thead>\n",
              "    <tr style=\"text-align: right;\">\n",
              "      <th></th>\n",
              "      <th>id</th>\n",
              "      <th>title</th>\n",
              "      <th>authors</th>\n",
              "      <th>year</th>\n",
              "      <th>references</th>\n",
              "    </tr>\n",
              "  </thead>\n",
              "  <tbody>\n",
              "    <tr>\n",
              "      <th>0</th>\n",
              "      <td>100001334</td>\n",
              "      <td>Ontologies in HYDRA - Middleware for Ambient I...</td>\n",
              "      <td>[{'name': 'Peter Kostelnik', 'id': '2702511795...</td>\n",
              "      <td>2009</td>\n",
              "      <td>0</td>\n",
              "    </tr>\n",
              "    <tr>\n",
              "      <th>1</th>\n",
              "      <td>1000018889</td>\n",
              "      <td>Remote Policy Enforcement for Trusted Applicat...</td>\n",
              "      <td>[{'name': 'Fabio Martinelli', 'id': '210743870...</td>\n",
              "      <td>2013</td>\n",
              "      <td>94181602,1504669610,1542792105,1639158619,1966...</td>\n",
              "    </tr>\n",
              "    <tr>\n",
              "      <th>2</th>\n",
              "      <td>1000022707</td>\n",
              "      <td>A SIMPLE OBSERVATION REGARDING ITERATIONS OF F...</td>\n",
              "      <td>[{'name': 'Jerzy Mycka', 'id': '263067851'}]</td>\n",
              "      <td>2009</td>\n",
              "      <td>1972178849,2069792094</td>\n",
              "    </tr>\n",
              "    <tr>\n",
              "      <th>3</th>\n",
              "      <td>100004108</td>\n",
              "      <td>Gait based human identity recognition from mul...</td>\n",
              "      <td>[{'name': 'Emdad Hossain', 'id': '2017661848',...</td>\n",
              "      <td>2012</td>\n",
              "      <td>1578000111,2120433720,2136461127,2138931357,21...</td>\n",
              "    </tr>\n",
              "    <tr>\n",
              "      <th>4</th>\n",
              "      <td>10000571</td>\n",
              "      <td>The GAME Algorithm Applied to Complex Fraction...</td>\n",
              "      <td>[{'name': 'Pavel Kordík', 'id': '419063071', '...</td>\n",
              "      <td>2008</td>\n",
              "      <td>291899685,1964166287,2135293965,2146842127,215...</td>\n",
              "    </tr>\n",
              "    <tr>\n",
              "      <th>...</th>\n",
              "      <td>...</td>\n",
              "      <td>...</td>\n",
              "      <td>...</td>\n",
              "      <td>...</td>\n",
              "      <td>...</td>\n",
              "    </tr>\n",
              "    <tr>\n",
              "      <th>4107335</th>\n",
              "      <td>999974056</td>\n",
              "      <td>Integrated Pollutants Control Equipment Optimi...</td>\n",
              "      <td>[{'name': 'Xiaowen Hao', 'id': '2580939372', '...</td>\n",
              "      <td>2013</td>\n",
              "      <td></td>\n",
              "    </tr>\n",
              "    <tr>\n",
              "      <th>4107336</th>\n",
              "      <td>999990983</td>\n",
              "      <td>On Density in Coordination Languages</td>\n",
              "      <td>[{'name': 'Jean-Marie Jacquet', 'id': '2010907...</td>\n",
              "      <td>2013</td>\n",
              "      <td>1500859230,1580092362,1585392506,1692521721,17...</td>\n",
              "    </tr>\n",
              "    <tr>\n",
              "      <th>4107337</th>\n",
              "      <td>999994435</td>\n",
              "      <td>Investigating the metabolic landscape alterati...</td>\n",
              "      <td>[{'name': 'Xiaofeng Zhang', 'id': '2103773916'}]</td>\n",
              "      <td>2015</td>\n",
              "      <td>0</td>\n",
              "    </tr>\n",
              "    <tr>\n",
              "      <th>4107338</th>\n",
              "      <td>99999725</td>\n",
              "      <td>Validating Referential Integrity as a Database...</td>\n",
              "      <td>[{'name': 'Coral Calero', 'id': '2106620005'},...</td>\n",
              "      <td>1999</td>\n",
              "      <td>0</td>\n",
              "    </tr>\n",
              "    <tr>\n",
              "      <th>4107339</th>\n",
              "      <td>99999932</td>\n",
              "      <td>IIT Kharagpur at TAC 2008: Statistical Model f...</td>\n",
              "      <td>[{'name': 'Sushant Kumar', 'id': '2590270817',...</td>\n",
              "      <td>2008</td>\n",
              "      <td>2110693578,2163455955,2166706824</td>\n",
              "    </tr>\n",
              "  </tbody>\n",
              "</table>\n",
              "<p>4107340 rows × 5 columns</p>\n",
              "</div>"
            ],
            "text/plain": [
              "                 id  ...                                         references\n",
              "0         100001334  ...                                                  0\n",
              "1        1000018889  ...  94181602,1504669610,1542792105,1639158619,1966...\n",
              "2        1000022707  ...                              1972178849,2069792094\n",
              "3         100004108  ...  1578000111,2120433720,2136461127,2138931357,21...\n",
              "4          10000571  ...  291899685,1964166287,2135293965,2146842127,215...\n",
              "...             ...  ...                                                ...\n",
              "4107335   999974056  ...                                                   \n",
              "4107336   999990983  ...  1500859230,1580092362,1585392506,1692521721,17...\n",
              "4107337   999994435  ...                                                  0\n",
              "4107338    99999725  ...                                                  0\n",
              "4107339    99999932  ...                   2110693578,2163455955,2166706824\n",
              "\n",
              "[4107340 rows x 5 columns]"
            ]
          },
          "metadata": {
            "tags": []
          },
          "execution_count": 24
        }
      ]
    },
    {
      "cell_type": "code",
      "metadata": {
        "id": "N_JH2UyQwcMu",
        "colab_type": "code",
        "colab": {}
      },
      "source": [
        "yello = df_graph[df_graph['references'] == \"\"]['references'].apply(lambda x:'0')\n",
        "d = df_graph['references']"
      ],
      "execution_count": null,
      "outputs": []
    },
    {
      "cell_type": "code",
      "metadata": {
        "id": "k7cVcXzvwmMo",
        "colab_type": "code",
        "colab": {}
      },
      "source": [
        "data = df_graph.T.to_dict(orient='list') \n",
        "#dict_nodes = {int(v['id']):list(map(int,v['references'].split(','))) for k, v in df.iterrows()}\n",
        "#G = nx.from_dict_of_lists(data)\n"
      ],
      "execution_count": null,
      "outputs": []
    },
    {
      "cell_type": "markdown",
      "metadata": {
        "id": "PGnLXwlpKbVv",
        "colab_type": "text"
      },
      "source": [
        "## Converting data frame to dict for creating graphs using nx.from_dict_of_lists"
      ]
    },
    {
      "cell_type": "code",
      "metadata": {
        "id": "BbUA286wz8Og",
        "colab_type": "code",
        "colab": {}
      },
      "source": [
        "dict_nodes = {v[0]:list(v[4].split(',')) for k, v in data.items()}\n",
        "data=0"
      ],
      "execution_count": null,
      "outputs": []
    },
    {
      "cell_type": "code",
      "metadata": {
        "id": "AuwpNfDIVH-Z",
        "colab_type": "code",
        "colab": {}
      },
      "source": [
        "dict_nodes"
      ],
      "execution_count": null,
      "outputs": []
    },
    {
      "cell_type": "code",
      "metadata": {
        "id": "8twE1v-ro7A6",
        "colab_type": "code",
        "colab": {}
      },
      "source": [
        "G = nx.from_dict_of_lists(dict_nodes)"
      ],
      "execution_count": null,
      "outputs": []
    },
    {
      "cell_type": "markdown",
      "metadata": {
        "id": "jOLf3ZYxK-Vv",
        "colab_type": "text"
      },
      "source": [
        "## DBLP citation graph characteristics"
      ]
    },
    {
      "cell_type": "code",
      "metadata": {
        "id": "SQohwv-kntKl",
        "colab_type": "code",
        "colab": {
          "base_uri": "https://localhost:8080/",
          "height": 102
        },
        "outputId": "c331fb3e-90f3-4f92-ee44-9f3b34d4b4cb"
      },
      "source": [
        "print(nx.info(G))"
      ],
      "execution_count": null,
      "outputs": [
        {
          "output_type": "stream",
          "text": [
            "Name: \n",
            "Type: Graph\n",
            "Number of nodes: 6703290\n",
            "Number of edges: 37534782\n",
            "Average degree:  11.1989\n"
          ],
          "name": "stdout"
        }
      ]
    },
    {
      "cell_type": "markdown",
      "metadata": {
        "id": "H091s_TmN7RL",
        "colab_type": "text"
      },
      "source": [
        "## Checkpoint 2: Writing the graph into a pickle file to "
      ]
    },
    {
      "cell_type": "code",
      "metadata": {
        "id": "UMDG8EZhWTdZ",
        "colab_type": "code",
        "colab": {}
      },
      "source": [
        "nx.write_gpickle(G,\"CitationGraph.gpickle\")\n",
        "!cp CitationGraph.gpickle drive/My\\ Drive/"
      ],
      "execution_count": null,
      "outputs": []
    },
    {
      "cell_type": "code",
      "metadata": {
        "id": "WxFJhq4OQ6MR",
        "colab_type": "code",
        "colab": {}
      },
      "source": [
        "graphpath = '/content/drive/My Drive/CitationGraph.gpickle'\n",
        "G=nx.read_gpickle(graphpath)"
      ],
      "execution_count": null,
      "outputs": []
    },
    {
      "cell_type": "code",
      "metadata": {
        "id": "O_TERXfhR0Ef",
        "colab_type": "code",
        "colab": {
          "base_uri": "https://localhost:8080/",
          "height": 102
        },
        "outputId": "cba060f6-d22e-493c-ac43-bb703d961780"
      },
      "source": [
        "print(nx.info(G))"
      ],
      "execution_count": null,
      "outputs": [
        {
          "output_type": "stream",
          "text": [
            "Name: \n",
            "Type: Graph\n",
            "Number of nodes: 6703290\n",
            "Number of edges: 37534782\n",
            "Average degree:  11.1989\n"
          ],
          "name": "stdout"
        }
      ]
    },
    {
      "cell_type": "code",
      "metadata": {
        "id": "394JUNQuTi72",
        "colab_type": "code",
        "colab": {}
      },
      "source": [
        "\n",
        "ccG = sorted(nx.connected_components(G), key = len, reverse=True)"
      ],
      "execution_count": null,
      "outputs": []
    },
    {
      "cell_type": "markdown",
      "metadata": {
        "id": "LSB9OV7FOTkx",
        "colab_type": "text"
      },
      "source": [
        "## Retrieving third largest Component"
      ]
    },
    {
      "cell_type": "code",
      "metadata": {
        "id": "u2DCdAx75Tb_",
        "colab_type": "code",
        "colab": {}
      },
      "source": [
        "i = 0\n",
        "for c in ccG:\n",
        "  i += 1\n",
        "  if i==3:\n",
        "    second_largest = G.subgraph(c)\n",
        "    break"
      ],
      "execution_count": null,
      "outputs": []
    },
    {
      "cell_type": "code",
      "metadata": {
        "id": "98phNOne6B0k",
        "colab_type": "code",
        "colab": {
          "base_uri": "https://localhost:8080/",
          "height": 34
        },
        "outputId": "afc984b0-fddb-42cf-a85f-f26831c60a37"
      },
      "source": [
        "nx.info(second_largest)"
      ],
      "execution_count": null,
      "outputs": [
        {
          "output_type": "execute_result",
          "data": {
            "text/plain": [
              "'Name: \\nType: Graph\\nNumber of nodes: 52\\nNumber of edges: 95\\nAverage degree:   3.6538'"
            ]
          },
          "metadata": {
            "tags": []
          },
          "execution_count": 20
        }
      ]
    },
    {
      "cell_type": "code",
      "metadata": {
        "id": "SudXuqB5SRDf",
        "colab_type": "code",
        "colab": {
          "base_uri": "https://localhost:8080/",
          "height": 34
        },
        "outputId": "2bf1215f-7ed8-45cc-a24b-43792413b89f"
      },
      "source": [
        "nx.draw(ccg[0])"
      ],
      "execution_count": null,
      "outputs": [
        {
          "output_type": "execute_result",
          "data": {
            "text/plain": [
              "24077"
            ]
          },
          "metadata": {
            "tags": []
          },
          "execution_count": 11
        }
      ]
    },
    {
      "cell_type": "markdown",
      "metadata": {
        "id": "0wPFk2IsOiFn",
        "colab_type": "text"
      },
      "source": [
        "## Node2Vec for learning graph feature embeddings"
      ]
    },
    {
      "cell_type": "code",
      "metadata": {
        "id": "CAaU0jDyehCx",
        "colab_type": "code",
        "colab": {
          "base_uri": "https://localhost:8080/",
          "height": 443
        },
        "outputId": "e66eb1ed-ad0a-4d15-be95-6a2a12754407"
      },
      "source": [
        "!pip install node2vec\n",
        "from node2vec import Node2Vec"
      ],
      "execution_count": null,
      "outputs": [
        {
          "output_type": "stream",
          "text": [
            "Collecting node2vec\n",
            "  Downloading https://files.pythonhosted.org/packages/c0/da/7f0c49433ef91033e21d523e82be1570074a5d6ab8c74f8771774e9d2fd1/node2vec-0.3.2-py3-none-any.whl\n",
            "Requirement already satisfied: tqdm in /usr/local/lib/python3.6/dist-packages (from node2vec) (4.41.1)\n",
            "Requirement already satisfied: numpy in /usr/local/lib/python3.6/dist-packages (from node2vec) (1.18.4)\n",
            "Requirement already satisfied: networkx in /usr/local/lib/python3.6/dist-packages (from node2vec) (2.4)\n",
            "Requirement already satisfied: gensim in /usr/local/lib/python3.6/dist-packages (from node2vec) (3.6.0)\n",
            "Requirement already satisfied: joblib>=0.13.2 in /usr/local/lib/python3.6/dist-packages (from node2vec) (0.15.0)\n",
            "Requirement already satisfied: decorator>=4.3.0 in /usr/local/lib/python3.6/dist-packages (from networkx->node2vec) (4.4.2)\n",
            "Requirement already satisfied: smart-open>=1.2.1 in /usr/local/lib/python3.6/dist-packages (from gensim->node2vec) (2.0.0)\n",
            "Requirement already satisfied: scipy>=0.18.1 in /usr/local/lib/python3.6/dist-packages (from gensim->node2vec) (1.4.1)\n",
            "Requirement already satisfied: six>=1.5.0 in /usr/local/lib/python3.6/dist-packages (from gensim->node2vec) (1.12.0)\n",
            "Requirement already satisfied: boto3 in /usr/local/lib/python3.6/dist-packages (from smart-open>=1.2.1->gensim->node2vec) (1.13.10)\n",
            "Requirement already satisfied: requests in /usr/local/lib/python3.6/dist-packages (from smart-open>=1.2.1->gensim->node2vec) (2.23.0)\n",
            "Requirement already satisfied: boto in /usr/local/lib/python3.6/dist-packages (from smart-open>=1.2.1->gensim->node2vec) (2.49.0)\n",
            "Requirement already satisfied: jmespath<1.0.0,>=0.7.1 in /usr/local/lib/python3.6/dist-packages (from boto3->smart-open>=1.2.1->gensim->node2vec) (0.10.0)\n",
            "Requirement already satisfied: botocore<1.17.0,>=1.16.10 in /usr/local/lib/python3.6/dist-packages (from boto3->smart-open>=1.2.1->gensim->node2vec) (1.16.10)\n",
            "Requirement already satisfied: s3transfer<0.4.0,>=0.3.0 in /usr/local/lib/python3.6/dist-packages (from boto3->smart-open>=1.2.1->gensim->node2vec) (0.3.3)\n",
            "Requirement already satisfied: urllib3!=1.25.0,!=1.25.1,<1.26,>=1.21.1 in /usr/local/lib/python3.6/dist-packages (from requests->smart-open>=1.2.1->gensim->node2vec) (1.24.3)\n",
            "Requirement already satisfied: idna<3,>=2.5 in /usr/local/lib/python3.6/dist-packages (from requests->smart-open>=1.2.1->gensim->node2vec) (2.9)\n",
            "Requirement already satisfied: certifi>=2017.4.17 in /usr/local/lib/python3.6/dist-packages (from requests->smart-open>=1.2.1->gensim->node2vec) (2020.4.5.1)\n",
            "Requirement already satisfied: chardet<4,>=3.0.2 in /usr/local/lib/python3.6/dist-packages (from requests->smart-open>=1.2.1->gensim->node2vec) (3.0.4)\n",
            "Requirement already satisfied: python-dateutil<3.0.0,>=2.1 in /usr/local/lib/python3.6/dist-packages (from botocore<1.17.0,>=1.16.10->boto3->smart-open>=1.2.1->gensim->node2vec) (2.8.1)\n",
            "Requirement already satisfied: docutils<0.16,>=0.10 in /usr/local/lib/python3.6/dist-packages (from botocore<1.17.0,>=1.16.10->boto3->smart-open>=1.2.1->gensim->node2vec) (0.15.2)\n",
            "Installing collected packages: node2vec\n",
            "Successfully installed node2vec-0.3.2\n"
          ],
          "name": "stdout"
        }
      ]
    },
    {
      "cell_type": "code",
      "metadata": {
        "id": "GmAS4ije4tjF",
        "colab_type": "code",
        "colab": {
          "base_uri": "https://localhost:8080/",
          "height": 221
        },
        "outputId": "65dd46de-2f88-4969-cb98-0343977b198e"
      },
      "source": [
        "node2vec = Node2Vec(second_largest, dimensions=16, walk_length=5, num_walks=100)\n",
        "model = node2vec.fit(window=10, min_count=1)"
      ],
      "execution_count": null,
      "outputs": [
        {
          "output_type": "stream",
          "text": [
            "\n",
            "Computing transition probabilities: 100%|██████████| 52/52 [00:00<00:00, 3624.97it/s]\n",
            "\n",
            "Generating walks (CPU: 1):   0%|          | 0/100 [00:00<?, ?it/s]\u001b[A\n",
            "Generating walks (CPU: 1):  13%|█▎        | 13/100 [00:00<00:00, 121.55it/s]\u001b[A\n",
            "Generating walks (CPU: 1):  23%|██▎       | 23/100 [00:00<00:00, 113.65it/s]\u001b[A\n",
            "Generating walks (CPU: 1):  35%|███▌      | 35/100 [00:00<00:00, 113.48it/s]\u001b[A\n",
            "Generating walks (CPU: 1):  47%|████▋     | 47/100 [00:00<00:00, 113.96it/s]\u001b[A\n",
            "Generating walks (CPU: 1):  59%|█████▉    | 59/100 [00:00<00:00, 114.08it/s]\u001b[A\n",
            "Generating walks (CPU: 1):  71%|███████   | 71/100 [00:00<00:00, 113.96it/s]\u001b[A\n",
            "Generating walks (CPU: 1):  83%|████████▎ | 83/100 [00:00<00:00, 114.04it/s]\u001b[A\n",
            "Generating walks (CPU: 1): 100%|██████████| 100/100 [00:00<00:00, 112.15it/s]\n"
          ],
          "name": "stderr"
        }
      ]
    },
    {
      "cell_type": "markdown",
      "metadata": {
        "id": "js4jQIB8Oq9k",
        "colab_type": "text"
      },
      "source": [
        "## Find Similar papers to one example "
      ]
    },
    {
      "cell_type": "code",
      "metadata": {
        "id": "q2mAbov3eodc",
        "colab_type": "code",
        "colab": {
          "base_uri": "https://localhost:8080/",
          "height": 276
        },
        "outputId": "96ab5c73-52af-4364-c7c2-0ad14e8bbf27"
      },
      "source": [
        "for node, _ in model.most_similar('2077630502'):\n",
        "    print(node)"
      ],
      "execution_count": null,
      "outputs": [
        {
          "output_type": "stream",
          "text": [
            "2042689757\n",
            "1995148262\n",
            "2061918486\n",
            "2123410249\n",
            "2036795293\n",
            "2040432290\n",
            "2054645615\n",
            "1975992038\n",
            "1970935001\n",
            "2086819089\n"
          ],
          "name": "stdout"
        },
        {
          "output_type": "stream",
          "text": [
            "/usr/local/lib/python3.6/dist-packages/ipykernel_launcher.py:1: DeprecationWarning: Call to deprecated `most_similar` (Method will be removed in 4.0.0, use self.wv.most_similar() instead).\n",
            "  \"\"\"Entry point for launching an IPython kernel.\n",
            "/usr/local/lib/python3.6/dist-packages/gensim/matutils.py:737: FutureWarning: Conversion of the second argument of issubdtype from `int` to `np.signedinteger` is deprecated. In future, it will be treated as `np.int64 == np.dtype(int).type`.\n",
            "  if np.issubdtype(vec.dtype, np.int):\n"
          ],
          "name": "stderr"
        }
      ]
    },
    {
      "cell_type": "code",
      "metadata": {
        "id": "_5y8sUfJ-vAO",
        "colab_type": "code",
        "colab": {
          "base_uri": "https://localhost:8080/",
          "height": 54
        },
        "outputId": "0779ca90-f529-404c-c7fd-44b8a9186ec5"
      },
      "source": [
        "second_largest.nodes"
      ],
      "execution_count": null,
      "outputs": [
        {
          "output_type": "execute_result",
          "data": {
            "text/plain": [
              "NodeView(('2077630502', 2087478532, 2100747663, 2086819089, '1970935001', 2778107795, 2280568213, 2061918486, '2061918486', '2573079394', 2036795293, 2564782625, 2040432290, '2296030840', 1988541604, 2077630502, 1989302443, 2566729515, '2042689757', '2123410249', 2016905010, 2119203642, '2044102592', '2036795293', '2004962093', '2023510627', 2049839176, '2280568213', '1975992038', '2087478532', '1995148262', 1986579795, '1989302443', 1970935001, '2566729515', 2067925723, 2042689757, '1988541604', 1978587103, '2016905010', '2054645615', 2023510627, 2781453285, 1975992038, 2028768999, 2780483306, '2564782625', '2049839176', '1978587103', 2296030840, '1986579795', '2028768999'))"
            ]
          },
          "metadata": {
            "tags": []
          },
          "execution_count": 29
        }
      ]
    },
    {
      "cell_type": "code",
      "metadata": {
        "id": "W5au02COVlyh",
        "colab_type": "code",
        "colab": {}
      },
      "source": [
        "print(nx.info(ccG))"
      ],
      "execution_count": null,
      "outputs": []
    },
    {
      "cell_type": "code",
      "metadata": {
        "id": "v6dKkFHx_JOH",
        "colab_type": "code",
        "colab": {
          "base_uri": "https://localhost:8080/",
          "height": 318
        },
        "outputId": "6616ce22-fad9-4728-9b24-dc1357af612c"
      },
      "source": [
        "nx.draw(second_largest)"
      ],
      "execution_count": null,
      "outputs": [
        {
          "output_type": "display_data",
          "data": {
            "image/png": "[encoded data removed]",
            "text/plain": [
              "<Figure size 432x288 with 1 Axes>"
            ]
          },
          "metadata": {
            "tags": []
          }
        }
      ]
    },
    {
      "cell_type": "code",
      "metadata": {
        "id": "iCBoPN3P_2Gu",
        "colab_type": "code",
        "colab": {}
      },
      "source": [
        "color_map = [\"green\", \"blue\", \"red\", \"yellow\", \"black\", \"purple\", \"grey\"]\n",
        "f=0\n",
        "nodes = {n:'' for n in second_largest.nodes}\n",
        "for nod in second_largest.nodes:\n",
        "  if nodes[nod]=='':\n",
        "    nodes[nod] = color_map[f]\n",
        "    for n, _ in model.most_similar(nod):\n",
        "      if nodes[n] == '':\n",
        "        nodes[n] = color_map[f]\n"
      ],
      "execution_count": null,
      "outputs": []
    },
    {
      "cell_type": "code",
      "metadata": {
        "id": "XM_ivGsXEGYj",
        "colab_type": "code",
        "colab": {
          "base_uri": "https://localhost:8080/",
          "height": 98
        },
        "outputId": "d16c979e-9dd6-4f9f-ef42-4b4c63faba2e"
      },
      "source": [
        "print(nx.info(giant)) "
      ],
      "execution_count": null,
      "outputs": [
        {
          "output_type": "stream",
          "text": [
            "Name: \n",
            "Type: Graph\n",
            "Number of nodes: 51489\n",
            "Number of edges: 58375\n",
            "Average degree:   2.2675\n"
          ],
          "name": "stdout"
        }
      ]
    },
    {
      "cell_type": "code",
      "metadata": {
        "id": "D0eYMdUPRozW",
        "colab_type": "code",
        "colab": {}
      },
      "source": [
        ""
      ],
      "execution_count": null,
      "outputs": []
    }
  ]
}